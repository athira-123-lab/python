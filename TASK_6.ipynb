{
  "nbformat": 4,
  "nbformat_minor": 0,
  "metadata": {
    "colab": {
      "name": "TASK 6.ipynb",
      "provenance": [],
      "include_colab_link": true
    },
    "kernelspec": {
      "name": "python3",
      "display_name": "Python 3"
    },
    "language_info": {
      "name": "python"
    }
  },
  "cells": [
    {
      "cell_type": "markdown",
      "metadata": {
        "id": "view-in-github",
        "colab_type": "text"
      },
      "source": [
        "<a href=\"https://colab.research.google.com/github/athira-123-lab/python/blob/main/TASK_6.ipynb\" target=\"_parent\"><img src=\"https://colab.research.google.com/assets/colab-badge.svg\" alt=\"Open In Colab\"/></a>"
      ]
    },
    {
      "cell_type": "markdown",
      "metadata": {
        "id": "2aT_QhgIny6V"
      },
      "source": [
        "1. Write a Python program to find those numbers which are divisible by 7 and multiple of 11, between 1000 and 2000 (both included)."
      ]
    },
    {
      "cell_type": "code",
      "metadata": {
        "id": "KlFG2BFZoEEU",
        "outputId": "24d6dba0-3c17-4947-ef67-c49aff5e9cf3",
        "colab": {
          "base_uri": "https://localhost:8080/"
        }
      },
      "source": [
        "#please enter your answer below this line\n",
        "u_lim=1000\n",
        "l_lim=2000\n",
        "for i in range(u_lim,l_lim):\n",
        "  if(i%7==0)and(i%11==0):\n",
        "     print(i)"
      ],
      "execution_count": 12,
      "outputs": [
        {
          "output_type": "stream",
          "text": [
            "1001\n",
            "1078\n",
            "1155\n",
            "1232\n",
            "1309\n",
            "1386\n",
            "1463\n",
            "1540\n",
            "1617\n",
            "1694\n",
            "1771\n",
            "1848\n",
            "1925\n"
          ],
          "name": "stdout"
        }
      ]
    },
    {
      "cell_type": "markdown",
      "metadata": {
        "id": "ZesHXUMboLu7"
      },
      "source": [
        "2. Write a program to print this pattern\n",
        "\n",
        "           #\n",
        "          ## \n",
        "         ###"
      ]
    },
    {
      "cell_type": "code",
      "metadata": {
        "id": "64-aUjWbohqz",
        "outputId": "98f4f6ea-5e9e-41cc-e9f6-bdf8c4ed8bb1",
        "colab": {
          "base_uri": "https://localhost:8080/"
        }
      },
      "source": [
        "#please enter your answer below this line\n",
        "rows = 3\n",
        "k = 2 * rows - 2\n",
        "for i in range(0, rows):\n",
        "    for j in range(0, k):\n",
        "          print(end=\" \")\n",
        "    k = k - 2\n",
        "    for j in range(0, i + 1):\n",
        "       print(\"#\", end=\"\")\n",
        "    print(\"\")"
      ],
      "execution_count": 9,
      "outputs": [
        {
          "output_type": "stream",
          "text": [
            "    #\n",
            "  ##\n",
            "###\n"
          ],
          "name": "stdout"
        }
      ]
    },
    {
      "cell_type": "markdown",
      "metadata": {
        "id": "6ZepaaI-ow6W"
      },
      "source": [
        "3. list=[apple, orange, apple, banana]\n",
        ". Replace all the apple in the list with grapes using for loop"
      ]
    },
    {
      "cell_type": "code",
      "metadata": {
        "id": "D7UOyf_6o6Ax",
        "outputId": "3c26fc10-0108-477f-e5c4-ccfea0c68b96",
        "colab": {
          "base_uri": "https://localhost:8080/"
        }
      },
      "source": [
        "#please enter your answer below this line\n",
        "list=[\"apple\",\" orange\", \"apple\", \"banana\"]\n",
        "print(list[:])\n",
        "for i in range (0,4):\n",
        " if(list[i]==\"apple\"):\n",
        "  list [i]=\"grape\"\n",
        "print(list[:])"
      ],
      "execution_count": 10,
      "outputs": [
        {
          "output_type": "stream",
          "text": [
            "['apple', ' orange', 'apple', 'banana']\n",
            "['grape', ' orange', 'grape', 'banana']\n"
          ],
          "name": "stdout"
        }
      ]
    }
  ]
}